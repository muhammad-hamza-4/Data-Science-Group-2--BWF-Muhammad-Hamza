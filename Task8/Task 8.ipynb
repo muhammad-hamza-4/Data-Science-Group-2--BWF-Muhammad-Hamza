{
 "cells": [
  {
   "cell_type": "markdown",
   "id": "65218fa2-2ebc-4711-b39a-974f6814a1a9",
   "metadata": {},
   "source": [
    "# Inventory System\n",
    "with \n",
    "Data Structure\n",
    "Funtions(Add,Remove Product)\n",
    "Testing Functions"
   ]
  },
  {
   "cell_type": "code",
   "execution_count": 2,
   "id": "13ae1a88-9753-48c6-a661-febeeb70fb88",
   "metadata": {},
   "outputs": [
    {
     "name": "stdout",
     "output_type": "stream",
     "text": [
      "Product 'Laptop' added successfully.\n",
      "Product 'Chair' added successfully.\n",
      "Product 'Notebook' added successfully.\n",
      "Stock updated for 'Laptop'. New stock: 35\n",
      "Stock updated for 'Chair'. New stock: 80\n",
      "All Products:\n",
      "ID: P001, Name: Laptop, Category: Electronics, Stock: 35\n",
      "ID: P002, Name: Chair, Category: Furniture, Stock: 80\n",
      "ID: P003, Name: Notebook, Category: Stationery, Stock: 150\n",
      "Products in Category 'Electronics':\n",
      "ID: P001, Name: Laptop, Stock: 35\n",
      "Products in Category 'Furniture':\n",
      "ID: P002, Name: Chair, Stock: 80\n"
     ]
    }
   ],
   "source": [
    "\n",
    "\n",
    "# Data Structures\n",
    "inventory = {}\n",
    "order_of_products = []\n",
    "unique_categories = set()\n",
    "\n",
    "\n",
    "def add_product(product_id, name, category, stock):\n",
    "    if product_id not in inventory:\n",
    "        inventory[product_id] = {'details': (name, category), 'stock': stock}\n",
    "        order_of_products.append(product_id)\n",
    "        unique_categories.add(category)\n",
    "        print(f\"Product '{name}' added successfully.\")\n",
    "    else:\n",
    "        print(f\"Product ID '{product_id}' already exists.\")\n",
    "\n",
    "\n",
    "def update_stock(product_id, quantity):\n",
    "    if product_id in inventory:\n",
    "        inventory[product_id]['stock'] += quantity\n",
    "        print(f\"Stock updated for '{inventory[product_id]['details'][0]}'. New stock: {inventory[product_id]['stock']}\")\n",
    "    else:\n",
    "        print(f\"Product ID '{product_id}' not found.\")\n",
    "\n",
    "\n",
    "def display_all_products():\n",
    "    print(\"All Products:\")\n",
    "    for product_id in order_of_products:\n",
    "        product = inventory[product_id]\n",
    "        name, category = product['details']\n",
    "        stock = product['stock']\n",
    "        print(f\"ID: {product_id}, Name: {name}, Category: {category}, Stock: {stock}\")\n",
    "\n",
    "\n",
    "def display_products_by_category(category):\n",
    "    print(f\"Products in Category '{category}':\")\n",
    "    for product_id in order_of_products:\n",
    "        product = inventory[product_id]\n",
    "        name, product_category = product['details']\n",
    "        if product_category == category:\n",
    "            print(f\"ID: {product_id}, Name: {name}, Stock: {product['stock']}\")\n",
    "\n",
    "# Testing functions\n",
    "add_product('P001', 'Laptop', 'Electronics', 25)\n",
    "add_product('P002', 'Chair', 'Furniture', 100)\n",
    "add_product('P003', 'Notebook', 'Stationery', 150)\n",
    "\n",
    "update_stock('P001', 10)\n",
    "update_stock('P002', -20)\n",
    "\n",
    "display_all_products()\n",
    "\n",
    "display_products_by_category('Electronics')\n",
    "display_products_by_category('Furniture')\n"
   ]
  },
  {
   "cell_type": "code",
   "execution_count": null,
   "id": "1af5a11a-c59d-4073-8a54-634896cf74b5",
   "metadata": {},
   "outputs": [],
   "source": []
  }
 ],
 "metadata": {
  "kernelspec": {
   "display_name": "Python 3 (ipykernel)",
   "language": "python",
   "name": "python3"
  },
  "language_info": {
   "codemirror_mode": {
    "name": "ipython",
    "version": 3
   },
   "file_extension": ".py",
   "mimetype": "text/x-python",
   "name": "python",
   "nbconvert_exporter": "python",
   "pygments_lexer": "ipython3",
   "version": "3.12.3"
  }
 },
 "nbformat": 4,
 "nbformat_minor": 5
}
