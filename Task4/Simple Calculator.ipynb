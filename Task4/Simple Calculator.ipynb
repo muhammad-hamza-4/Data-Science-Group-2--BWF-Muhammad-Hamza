{
 "cells": [
  {
   "cell_type": "code",
   "execution_count": 1,
   "id": "aeabc94d-aede-4225-9067-b7b1b2198390",
   "metadata": {},
   "outputs": [
    {
     "name": "stdout",
     "output_type": "stream",
     "text": [
      "Simple Calculator\n",
      "What Do Want to Do \n",
      "1.Addition\n",
      "2.Substration\n",
      "3.Multiplication\n",
      "4.Division\n"
     ]
    },
    {
     "name": "stdin",
     "output_type": "stream",
     "text": [
      "Enter Choice Number\n",
      " 3\n",
      "Enter First Number\n",
      " 3\n",
      "Enter Second Number\n",
      " 4\n"
     ]
    },
    {
     "name": "stdout",
     "output_type": "stream",
     "text": [
      "12.0\n"
     ]
    }
   ],
   "source": [
    "import math\n",
    "\n",
    "print(\"Simple Calculator\")\n",
    "print(\"What Do Want to Do \\n1.Addition\\n2.Substration\\n3.Multiplication\\n4.Division\")\n",
    "choice = int(input(\"Enter Choice Number\\n\"))\n",
    "num1= float(input(\"Enter First Number\\n\"))\n",
    "num2= float(input(\"Enter Second Number\\n\"))\n",
    "if choice == 1:\n",
    "  add = num1 + num2\n",
    "  print(add)\n",
    "elif choice == 2:\n",
    "  sub = num1-num2\n",
    "  print(sub)\n",
    "elif choice == 3:\n",
    "  mul=num1*num2\n",
    "  print(mul)\n",
    "elif choice == 4:\n",
    "  div=num1/num2\n",
    "  print(div)\n",
    "else:\n",
    "  print(\"Invalid Input\")"
   ]
  },
  {
   "cell_type": "code",
   "execution_count": null,
   "id": "50c303ff-d011-44ef-ac18-250ff55bcee6",
   "metadata": {},
   "outputs": [],
   "source": []
  }
 ],
 "metadata": {
  "kernelspec": {
   "display_name": "Python 3 (ipykernel)",
   "language": "python",
   "name": "python3"
  },
  "language_info": {
   "codemirror_mode": {
    "name": "ipython",
    "version": 3
   },
   "file_extension": ".py",
   "mimetype": "text/x-python",
   "name": "python",
   "nbconvert_exporter": "python",
   "pygments_lexer": "ipython3",
   "version": "3.12.3"
  }
 },
 "nbformat": 4,
 "nbformat_minor": 5
}
