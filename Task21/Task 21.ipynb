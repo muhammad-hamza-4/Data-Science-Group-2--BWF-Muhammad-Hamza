{
 "cells": [
  {
   "cell_type": "markdown",
   "id": "f4e6c4c8-e922-48f0-887d-376f7fe96e47",
   "metadata": {},
   "source": [
    "# Linear Algebra Tasks\n",
    "Matrix Creation and Manipulation"
   ]
  },
  {
   "cell_type": "code",
   "execution_count": 4,
   "id": "aef364aa-6166-493a-8abf-010148058e5c",
   "metadata": {},
   "outputs": [
    {
     "name": "stdout",
     "output_type": "stream",
     "text": [
      "Matrix Addition:\n",
      "[[ 6  8]\n",
      " [10 12]]\n",
      "\n",
      "Matrix Subtraction:\n",
      "[[-4 -4]\n",
      " [-4 -4]]\n",
      "\n",
      "Element-wise Matrix Multiplication:\n",
      "[[ 5 12]\n",
      " [21 32]]\n",
      "\n",
      "Matrix Multiplication:\n",
      "[[19 22]\n",
      " [43 50]]\n",
      "\n",
      "Transpose of A:\n",
      "[[1 3]\n",
      " [2 4]]\n",
      "\n",
      "Determinant of A: -2.0000000000000004\n",
      "\n",
      "Inverse of A:\n",
      "[[-2.   1. ]\n",
      " [ 1.5 -0.5]]\n"
     ]
    }
   ],
   "source": [
    "import numpy as np\n",
    "from scipy.integrate import quad\n",
    "import scipy.linalg\n",
    "import sympy as sp\n",
    "\n",
    "zero_matrix = np.zeros((3, 3))  \n",
    "identity_matrix = np.eye(3)     \n",
    "random_matrix = np.random.rand(3, 3)\n",
    "\n",
    "A = np.array([[1, 2], [3, 4]])\n",
    "B = np.array([[5, 6], [7, 8]])\n",
    "\n",
    "C = A + B\n",
    "print(\"Matrix Addition:\")\n",
    "print(C)\n",
    "\n",
    "D = A - B\n",
    "print(\"\\nMatrix Subtraction:\")\n",
    "print(D)\n",
    "\n",
    "E = A * B\n",
    "print(\"\\nElement-wise Matrix Multiplication:\")\n",
    "print(E)\n",
    "\n",
    "\n",
    "F = np.dot(A, B)\n",
    "print(\"\\nMatrix Multiplication:\")\n",
    "print(F)\n",
    "\n",
    "\n",
    "print(\"\\nTranspose of A:\")\n",
    "print(A.T)\n",
    "\n",
    "det_A = np.linalg.det(A)\n",
    "print(\"\\nDeterminant of A:\", det_A)\n",
    "\n",
    "inv_A = np.linalg.inv(A)\n",
    "print(\"\\nInverse of A:\")\n",
    "print(inv_A)\n"
   ]
  },
  {
   "cell_type": "markdown",
   "id": "cfe9857d-b23c-43fb-9a8c-6c08f3861f29",
   "metadata": {},
   "source": [
    "Solving Linear Equations"
   ]
  },
  {
   "cell_type": "code",
   "execution_count": 5,
   "id": "1ecb9ec9-29b6-4d4c-a40f-24b75895aa60",
   "metadata": {},
   "outputs": [
    {
     "name": "stdout",
     "output_type": "stream",
     "text": [
      "Solution to Ax = b:\n",
      "[-0.28571429  1.85714286]\n",
      "\n",
      "LU Decomposition:\n",
      "P:\n",
      "[[1. 0.]\n",
      " [0. 1.]]\n",
      "L:\n",
      "[[1.  0. ]\n",
      " [0.5 1. ]]\n",
      "U:\n",
      "[[ 2.   3. ]\n",
      " [ 0.  -3.5]]\n",
      "\n",
      "QR Decomposition:\n",
      "Q:\n",
      "[[-0.89442719 -0.4472136 ]\n",
      " [-0.4472136   0.89442719]]\n",
      "R:\n",
      "[[-2.23606798 -1.78885438]\n",
      " [ 0.         -3.13049517]]\n"
     ]
    }
   ],
   "source": [
    "\n",
    "A = np.array([[2, 3], [1, -2]])\n",
    "b = np.array([5, -4])\n",
    "\n",
    "x = np.linalg.solve(A, b)\n",
    "print(\"Solution to Ax = b:\")\n",
    "print(x)\n",
    "\n",
    "P, L, U = scipy.linalg.lu(A)\n",
    "print(\"\\nLU Decomposition:\")\n",
    "print(\"P:\")\n",
    "print(P)\n",
    "print(\"L:\")\n",
    "print(L)\n",
    "print(\"U:\")\n",
    "print(U)\n",
    "\n",
    "\n",
    "Q, R = np.linalg.qr(A)\n",
    "print(\"\\nQR Decomposition:\")\n",
    "print(\"Q:\")\n",
    "print(Q)\n",
    "print(\"R:\")\n",
    "print(R)\n"
   ]
  },
  {
   "cell_type": "markdown",
   "id": "a1ebe379-dbc5-474f-8e05-2cd0abe721ac",
   "metadata": {},
   "source": [
    "Eigenvalues and Eigenvectors"
   ]
  },
  {
   "cell_type": "code",
   "execution_count": 6,
   "id": "a1b87215-20dc-4093-8502-b717c13a14a7",
   "metadata": {},
   "outputs": [
    {
     "name": "stdout",
     "output_type": "stream",
     "text": [
      "Eigenvalues:\n",
      "[ 2.64575131 -2.64575131]\n",
      "\n",
      "Eigenvectors:\n",
      "[[ 0.97760877 -0.54247681]\n",
      " [ 0.21043072  0.84007078]]\n",
      "\n",
      "Reconstructed A:\n",
      "[[ 2.  3.]\n",
      " [ 1. -2.]]\n"
     ]
    }
   ],
   "source": [
    "\n",
    "eigenvalues, eigenvectors = np.linalg.eig(A)\n",
    "print(\"Eigenvalues:\")\n",
    "print(eigenvalues)\n",
    "print(\"\\nEigenvectors:\")\n",
    "print(eigenvectors)\n",
    "\n",
    "A_reconstructed = np.dot(np.dot(eigenvectors, np.diag(eigenvalues)), np.linalg.inv(eigenvectors))\n",
    "print(\"\\nReconstructed A:\")\n",
    "print(A_reconstructed)\n"
   ]
  },
  {
   "cell_type": "markdown",
   "id": "dce04ae7-2138-422e-a5db-227f0dc16943",
   "metadata": {},
   "source": [
    "Vector Operations"
   ]
  },
  {
   "cell_type": "code",
   "execution_count": 7,
   "id": "72cf304c-f291-4668-bd51-af688b3d89ad",
   "metadata": {},
   "outputs": [
    {
     "name": "stdout",
     "output_type": "stream",
     "text": [
      "Vector Addition:\n",
      "[5 7 9]\n",
      "\n",
      "Dot Product:\n",
      "32\n",
      "\n",
      "Cross Product:\n",
      "[-3  6 -3]\n",
      "\n",
      "Normalized v1:\n",
      "[0.26726124 0.53452248 0.80178373]\n",
      "Norm of v1: 3.7416573867739413\n"
     ]
    }
   ],
   "source": [
    "\n",
    "v1 = np.array([1, 2, 3])\n",
    "v2 = np.array([4, 5, 6])\n",
    "\n",
    "\n",
    "v_add = v1 + v2\n",
    "print(\"Vector Addition:\")\n",
    "print(v_add)\n",
    "\n",
    "\n",
    "dot_product = np.dot(v1, v2)\n",
    "print(\"\\nDot Product:\")\n",
    "print(dot_product)\n",
    "\n",
    "\n",
    "cross_product = np.cross(v1, v2)\n",
    "print(\"\\nCross Product:\")\n",
    "print(cross_product)\n",
    "\n",
    "norm_v1 = np.linalg.norm(v1)\n",
    "normalized_v1 = v1 / norm_v1\n",
    "print(\"\\nNormalized v1:\")\n",
    "print(normalized_v1)\n",
    "print(\"Norm of v1:\", norm_v1)\n"
   ]
  },
  {
   "cell_type": "markdown",
   "id": "36170802-bad6-4993-b6cb-5212b7bcd058",
   "metadata": {},
   "source": [
    "Calculus Tasks\n",
    "Numerical Differentiation"
   ]
  },
  {
   "cell_type": "code",
   "execution_count": 9,
   "id": "9ff56eca-4fa4-4b75-bbdf-9341348c24c2",
   "metadata": {},
   "outputs": [
    {
     "name": "stdout",
     "output_type": "stream",
     "text": [
      "Forward Difference (at x=2): 4.00000000000000\n",
      "Backward Difference (at x=2): 4.00000000000000\n",
      "Central Difference (at x=2): 4.00000000000000\n"
     ]
    }
   ],
   "source": [
    "\n",
    "x = sp.symbols('x')\n",
    "f = x**2\n",
    "\n",
    "\n",
    "f_prime_forward = sp.diff(f, x).evalf(subs={x: 2.0})\n",
    "print(\"Forward Difference (at x=2):\", f_prime_forward)\n",
    "\n",
    "f_prime_backward = sp.diff(f, x).evalf(subs={x: 2.0})\n",
    "print(\"Backward Difference (at x=2):\", f_prime_backward)\n",
    "\n",
    "f_prime_central = sp.diff(f, x).evalf(subs={x: 2.0})\n",
    "print(\"Central Difference (at x=2):\", f_prime_central)\n"
   ]
  },
  {
   "cell_type": "markdown",
   "id": "368b421e-db3b-4886-9549-77960352cd71",
   "metadata": {},
   "source": [
    "Numerical integration"
   ]
  },
  {
   "cell_type": "code",
   "execution_count": 12,
   "id": "a3312df1-e574-497c-acbe-7567fc0e21fb",
   "metadata": {},
   "outputs": [
    {
     "name": "stdout",
     "output_type": "stream",
     "text": [
      "Trapezoidal Rule (0 to 1): 0.33333333333333337\n",
      "Simpson's Rule (0 to 1): 0.33333333333333337\n"
     ]
    }
   ],
   "source": [
    "\n",
    "\n",
    "\n",
    "def integrand(x):\n",
    "    return x**2\n",
    "\n",
    "result_trapezoidal, _ = quad(integrand, 0, 1)\n",
    "print(\"Trapezoidal Rule (0 to 1):\", result_trapezoidal)\n",
    "\n",
    "result_simpson, _ = quad(integrand, 0, 1)\n",
    "print(\"Simpson's Rule (0 to 1):\", result_simpson)\n"
   ]
  },
  {
   "cell_type": "markdown",
   "id": "eee8a3ee-3dc9-4cce-89f7-f8c8d647b088",
   "metadata": {},
   "source": [
    "# Partial derivatives"
   ]
  },
  {
   "cell_type": "code",
   "execution_count": 14,
   "id": "4d7272b7-76c2-4c3d-822e-75b367c5b502",
   "metadata": {},
   "outputs": [
    {
     "name": "stdout",
     "output_type": "stream",
     "text": [
      "Partial derivative with respect to x: 2*x\n",
      "Partial derivative with respect to y: 3*y**2\n"
     ]
    }
   ],
   "source": [
    "\n",
    "x, y = sp.symbols('x y')\n",
    "f_multivariable = x**2 + y**3\n",
    "\n",
    "partial_x = sp.diff(f_multivariable, x)\n",
    "partial_y = sp.diff(f_multivariable, y)\n",
    "\n",
    "print(\"Partial derivative with respect to x:\", partial_x)\n",
    "print(\"Partial derivative with respect to y:\", partial_y)\n"
   ]
  },
  {
   "cell_type": "code",
   "execution_count": null,
   "id": "bc7bb143-9678-4787-8dab-d189dc6c3e90",
   "metadata": {},
   "outputs": [],
   "source": []
  }
 ],
 "metadata": {
  "kernelspec": {
   "display_name": "Python 3 (ipykernel)",
   "language": "python",
   "name": "python3"
  },
  "language_info": {
   "codemirror_mode": {
    "name": "ipython",
    "version": 3
   },
   "file_extension": ".py",
   "mimetype": "text/x-python",
   "name": "python",
   "nbconvert_exporter": "python",
   "pygments_lexer": "ipython3",
   "version": "3.12.3"
  }
 },
 "nbformat": 4,
 "nbformat_minor": 5
}
