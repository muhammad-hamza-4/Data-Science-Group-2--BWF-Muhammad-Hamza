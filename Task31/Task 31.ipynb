{
 "cells": [
  {
   "cell_type": "markdown",
   "id": "81d7c0b4-ee74-475f-b790-6c41d1841b6b",
   "metadata": {},
   "source": [
    "# Task 30"
   ]
  },
  {
   "cell_type": "code",
   "execution_count": 1,
   "id": "46776f43-e60e-4cf6-8929-cb9ba4770843",
   "metadata": {},
   "outputs": [
    {
     "name": "stdout",
     "output_type": "stream",
     "text": [
      "Test set accuracy with PCA:  0.6851851851851852\n",
      "Test set accuracy without PCA:  0.9814814814814815\n"
     ]
    },
    {
     "name": "stderr",
     "output_type": "stream",
     "text": [
      "C:\\Users\\Muhammad Hamza\\AppData\\Local\\Programs\\Python\\Python312\\Lib\\site-packages\\sklearn\\linear_model\\_logistic.py:469: ConvergenceWarning: lbfgs failed to converge (status=1):\n",
      "STOP: TOTAL NO. of ITERATIONS REACHED LIMIT.\n",
      "\n",
      "Increase the number of iterations (max_iter) or scale the data as shown in:\n",
      "    https://scikit-learn.org/stable/modules/preprocessing.html\n",
      "Please also refer to the documentation for alternative solver options:\n",
      "    https://scikit-learn.org/stable/modules/linear_model.html#logistic-regression\n",
      "  n_iter_i = _check_optimize_result(\n"
     ]
    }
   ],
   "source": [
    "from sklearn.datasets import load_wine\n",
    "from sklearn.model_selection import train_test_split\n",
    "from sklearn.linear_model import LogisticRegression\n",
    "from sklearn.decomposition import PCA\n",
    "from sklearn.metrics import accuracy_score\n",
    "\n",
    "wine = load_wine()\n",
    "X, y = wine.data, wine.target\n",
    "\n",
    "# Split data into training\n",
    "X_train, X_test, y_train, y_test = train_test_split(X, y, test_size=0.3, random_state=42)\n",
    "\n",
    "# Initializing and applying PCA\n",
    "pca = PCA(n_components=2)  \n",
    "X_train_pca = pca.fit_transform(X_train)\n",
    "X_test_pca = pca.transform(X_test)\n",
    "\n",
    "# Initialize and train model\n",
    "log_reg = LogisticRegression()\n",
    "log_reg.fit(X_train_pca, y_train)\n",
    "\n",
    "# Predictions\n",
    "y_pred = log_reg.predict(X_test_pca)\n",
    "\n",
    "accuracy = accuracy_score(y_test, y_pred)\n",
    "print(\"Test set accuracy with PCA: \", accuracy)\n",
    "\n",
    "log_reg_no_pca = LogisticRegression()\n",
    "log_reg_no_pca.fit(X_train, y_train)\n",
    "y_pred_no_pca = log_reg_no_pca.predict(X_test)\n",
    "accuracy_no_pca = accuracy_score(y_test, y_pred_no_pca)\n",
    "print(\"Test set accuracy without PCA: \", accuracy_no_pca)\n"
   ]
  },
  {
   "cell_type": "code",
   "execution_count": null,
   "id": "5c33986a-ccd5-4710-be75-e2c335326f0f",
   "metadata": {},
   "outputs": [],
   "source": []
  }
 ],
 "metadata": {
  "kernelspec": {
   "display_name": "Python 3 (ipykernel)",
   "language": "python",
   "name": "python3"
  },
  "language_info": {
   "codemirror_mode": {
    "name": "ipython",
    "version": 3
   },
   "file_extension": ".py",
   "mimetype": "text/x-python",
   "name": "python",
   "nbconvert_exporter": "python",
   "pygments_lexer": "ipython3",
   "version": "3.12.3"
  }
 },
 "nbformat": 4,
 "nbformat_minor": 5
}
