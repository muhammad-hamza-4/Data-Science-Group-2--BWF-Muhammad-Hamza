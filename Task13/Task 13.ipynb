{
 "cells": [
  {
   "cell_type": "markdown",
   "id": "b721016b-814b-4d7d-a97c-6f573159d972",
   "metadata": {},
   "source": [
    "# Task 13: Data manipulation with Pandas (indexing, selection, grouping)\n",
    "Load a DataFrame from a CSV file. Display the first and last five rows of the DataFrame.\n",
    "Set a specific column as the index of the DataFrame.\n",
    "Select a specific column and display its values.\n",
    "Select multiple columns and display the resulting DataFrame.\n",
    "Select a subset of rows using the .loc method.\n",
    "Select a subset of rows and columns using the .iloc method.\n",
    "Filter rows based on a condition.\n",
    "Group the DataFrame by a specific column and calculate the mean of each group.\n",
    "Group the DataFrame by multiple columns and calculate the sum of each group.\n",
    "Use the agg method to apply multiple aggregation functions to grouped data.\n",
    "Calculate the size of each group.\n",
    "Select rows based on multiple conditions.\n",
    "Use the query method to filter rows.\n",
    "Use isin to filter rows based on a list of values.\n",
    "Select specific columns and rename them.\n"
   ]
  },
  {
   "cell_type": "code",
   "execution_count": null,
   "id": "895c69b9-459c-49f5-a2c8-aaa22008b94a",
   "metadata": {},
   "outputs": [],
   "source": [
    "import pandas as pd\n",
    "\n",
    "df = pd.read_csv('timezone1.csv')\n",
    "\n",
    "first_five_rows = df.head()\n",
    "\n",
    "last_five_rows = df.tail()\n",
    "\n",
    "df.set_index('Timezone', inplace=True)\n",
    "\n",
    "specific_column_values = df['City']\n",
    "\n",
    "multiple_columns_df = df[['Offset', 'Population', 'Country']]\n",
    "\n",
    "subset_loc = df.loc['Africa/Accra']\n",
    "\n",
    "subset_iloc = df.iloc[1:3, 1:3]\n",
    "\n",
    "filtered_rows = df[df['Population'] > 5000000]\n",
    "\n",
    "grouped_mean = df.groupby('Country')['Population'].mean()\n",
    "\n",
    "grouped_sum = df.groupby(['Offset', 'Country'])['Population'].sum()\n",
    "\n",
    "grouped_agg = df.groupby('Country').agg({'Population': ['mean', 'sum'], 'Offset': 'max'})\n",
    "\n",
    "group_sizes = df.groupby('Country').size()\n",
    "\n",
    "multiple_conditions = df[(df['Population'] > 1000000) & (df['Offset'] > 0)]\n",
    "\n",
    "query_result = df.query('Population > 1000000 and Offset > 0')\n",
    "\n",
    "isin_filter = df[df['Country'].isin(['Ghana', 'Japan', 'UK'])]\n",
    "\n",
    "df_renamed = df[['City', 'Population']].rename(columns={'City': 'City_Name', 'Population': 'Pop'})\n",
    "\n",
    "print(first_five_rows, last_five_rows, specific_column_values, multiple_columns_df, subset_loc, subset_iloc, \n",
    " filtered_rows, grouped_mean, grouped_sum, grouped_agg, group_sizes, multiple_conditions, query_result, \n",
    " isin_filter, df_renamed)\n"
   ]
  }
 ],
 "metadata": {
  "kernelspec": {
   "display_name": "Python 3 (ipykernel)",
   "language": "python",
   "name": "python3"
  },
  "language_info": {
   "codemirror_mode": {
    "name": "ipython",
    "version": 3
   },
   "file_extension": ".py",
   "mimetype": "text/x-python",
   "name": "python",
   "nbconvert_exporter": "python",
   "pygments_lexer": "ipython3",
   "version": "3.12.3"
  }
 },
 "nbformat": 4,
 "nbformat_minor": 5
}
