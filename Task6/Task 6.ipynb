{
 "cells": [
  {
   "cell_type": "markdown",
   "id": "8d2a3b1b-122a-4cf0-a6a0-b675e7b788c8",
   "metadata": {},
   "source": [
    "# Student Managment System\n",
    "  Json File"
   ]
  },
  {
   "cell_type": "code",
   "execution_count": null,
   "id": "4299d456-56a3-4aa9-afca-8941c1ed5558",
   "metadata": {},
   "outputs": [
    {
     "name": "stdout",
     "output_type": "stream",
     "text": [
      "\n",
      "Options:\n",
      "1. Display Students\n",
      "2. Add Student\n",
      "3. Search Student\n",
      "4. Delete Student\n",
      "5. Exit\n"
     ]
    }
   ],
   "source": [
    "import json\n",
    "import os\n",
    "\n",
    "# File to store student data\n",
    "DATA_FILE = 'students.json'\n",
    "\n",
    "\n",
    "def load_data():\n",
    "    if os.path.exists(DATA_FILE):\n",
    "        with open(DATA_FILE, 'r') as file:\n",
    "            return json.load(file)\n",
    "    return []\n",
    "\n",
    "\n",
    "def save_data(students):\n",
    "    with open(DATA_FILE, 'w') as file:\n",
    "        json.dump(students, file)\n",
    "\n",
    "\n",
    "def display_students(students):\n",
    "    print(\"Available Students:\")\n",
    "    for student in students:\n",
    "        print(f\"ID: {student['student_id']}, Name: {student['student_name']}, Age: {student['student_age']}, Grade: {student['student_grade']}\")\n",
    "\n",
    "\n",
    "def add_student(students):\n",
    "    student_id = input(\"Enter Student ID: \")\n",
    "    if any(student['student_id'] == student_id for student in students):\n",
    "        print(\"Student ID already exists. Try again.\")\n",
    "        return\n",
    "    student_name = input(\"Enter Student Name: \")\n",
    "    student_age = input(\"Enter Student Age: \")\n",
    "    student_grade = input(\"Enter Student Grade: \")\n",
    "    students.append({'student_id': student_id, 'student_name': student_name, 'student_age': student_age, 'student_grade': student_grade})\n",
    "    save_data(students)\n",
    "    print(\"Student added successfully.\")\n",
    "\n",
    "\n",
    "def search_student(students):\n",
    "    student_id = input(\"Enter Student ID to search: \")\n",
    "    for student in students:\n",
    "        if student['student_id'] == student_id:\n",
    "            print(f\"Found Student: {student}\")\n",
    "            return\n",
    "    print(\"Student not found.\")\n",
    "\n",
    "\n",
    "def delete_student(students):\n",
    "    student_id = input(\"Enter Student ID to delete: \")\n",
    "    for student in students:\n",
    "        if student['student_id'] == student_id:\n",
    "            students.remove(student)\n",
    "            save_data(students)\n",
    "            print(\"Student deleted successfully.\")\n",
    "            return\n",
    "    print(\"Student not found.\")\n",
    "\n",
    "def main():\n",
    "    students = load_data()\n",
    "    while True:\n",
    "        print(\"\\nOptions:\")\n",
    "        print(\"1. Display Students\")\n",
    "        print(\"2. Add Student\")\n",
    "        print(\"3. Search Student\")\n",
    "        print(\"4. Delete Student\")\n",
    "        print(\"5. Exit\")\n",
    "        choice = input(\"Enter your choice: \")\n",
    "        \n",
    "        if choice == '1':\n",
    "            display_students(students)\n",
    "        elif choice == '2':\n",
    "            add_student(students)\n",
    "        elif choice == '3':\n",
    "            search_student(students)\n",
    "        elif choice == '4':\n",
    "            delete_student(students)\n",
    "        elif choice == '5':\n",
    "            break\n",
    "        else:\n",
    "            print(\"Invalid choice. Try again.\")\n",
    "\n",
    "if __name__ == \"__main__\":\n",
    "    main()\n"
   ]
  },
  {
   "cell_type": "code",
   "execution_count": null,
   "id": "8168d7e1-64f1-4beb-8c0c-a860eddaec1f",
   "metadata": {},
   "outputs": [],
   "source": []
  }
 ],
 "metadata": {
  "kernelspec": {
   "display_name": "Python 3 (ipykernel)",
   "language": "python",
   "name": "python3"
  },
  "language_info": {
   "codemirror_mode": {
    "name": "ipython",
    "version": 3
   },
   "file_extension": ".py",
   "mimetype": "text/x-python",
   "name": "python",
   "nbconvert_exporter": "python",
   "pygments_lexer": "ipython3",
   "version": "3.12.3"
  }
 },
 "nbformat": 4,
 "nbformat_minor": 5
}
