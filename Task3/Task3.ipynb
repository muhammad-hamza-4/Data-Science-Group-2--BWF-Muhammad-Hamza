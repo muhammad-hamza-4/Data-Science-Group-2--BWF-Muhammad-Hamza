{
 "cells": [
  {
   "cell_type": "code",
   "execution_count": 1,
   "id": "67e4944b-9347-4806-a148-e9b500853dcd",
   "metadata": {},
   "outputs": [
    {
     "name": "stdout",
     "output_type": "stream",
     "text": [
      "Hello World\n",
      "Muhammad Hamza\n",
      "Data Science Group II\n"
     ]
    }
   ],
   "source": [
    "print(\"Hello World\") \n",
    "print(\"Muhammad Hamza\") \n",
    "print(\"Data Science Group II\") \n",
    "\n"
   ]
  },
  {
   "cell_type": "markdown",
   "id": "21a254b9-f03c-46cf-a450-ebbbaf0cf4ef",
   "metadata": {},
   "source": [
    "# Markdown\n",
    "## Muhammad Hamza\n",
    "### Data Science Group II"
   ]
  },
  {
   "cell_type": "markdown",
   "id": "aac7ab9d-9324-4845-8578-4557dbb4db56",
   "metadata": {},
   "source": [
    "# Equation For Better Visual\n",
    "$$S_n = \\frac{a(1-r^n)}{1-r}$$\n",
    "\n",
    "where:\n",
    "* $S_n$ represents the sum of the first n terms.\n",
    "* $a$ represents the first term of the series.\n",
    "* $r$ represents the common ratio between successive terms.\n",
    "* $n$ represents the number of terms in the series."
   ]
  },
  {
   "cell_type": "markdown",
   "id": "002457f4-7164-4596-b9d7-41967b0cb909",
   "metadata": {},
   "source": [
    "## **ADDING TABLE:**\n",
    "\n",
    "| Column 1 | Column 2 | Column 3 |\n",
    "|:---------|:--------:|---------:|\n",
    "|  Row 1   |  Row 1   |  Row 1   |\n",
    "|  Row 2   |  Row 2   |  Row 2   |\n",
    "|  Row 3   |  Row 3   |  Row 3   |"
   ]
  },
  {
   "cell_type": "code",
   "execution_count": null,
   "id": "c865692b-e33a-472a-b6b7-48f3bd72f03b",
   "metadata": {},
   "outputs": [],
   "source": []
  }
 ],
 "metadata": {
  "kernelspec": {
   "display_name": "Python 3 (ipykernel)",
   "language": "python",
   "name": "python3"
  },
  "language_info": {
   "codemirror_mode": {
    "name": "ipython",
    "version": 3
   },
   "file_extension": ".py",
   "mimetype": "text/x-python",
   "name": "python",
   "nbconvert_exporter": "python",
   "pygments_lexer": "ipython3",
   "version": "3.12.3"
  }
 },
 "nbformat": 4,
 "nbformat_minor": 5
}
