{
 "cells": [
  {
   "cell_type": "markdown",
   "id": "851556ea-f24b-4ef1-af7a-bdeeddcb087c",
   "metadata": {},
   "source": [
    "# Task 33"
   ]
  },
  {
   "cell_type": "code",
   "execution_count": 3,
   "id": "5e32b068-5492-4559-986d-10146be8505c",
   "metadata": {},
   "outputs": [
    {
     "name": "stdout",
     "output_type": "stream",
     "text": [
      "Epoch 0, Loss: 1.4068559462238825\n",
      "Epoch 1000, Loss: 0.16666666666666669\n",
      "Epoch 2000, Loss: 0.16666666666666669\n",
      "Epoch 3000, Loss: 0.16666666666666669\n",
      "Epoch 4000, Loss: 0.16666666666666669\n",
      "Epoch 5000, Loss: 0.16666666666666669\n",
      "Epoch 6000, Loss: 0.16666666666666669\n",
      "Epoch 7000, Loss: 0.16666666666666669\n",
      "Epoch 8000, Loss: 0.16666666666666669\n",
      "Epoch 9000, Loss: 0.16666666666666669\n",
      "Final predicted output:  [[6.66666667e-01]\n",
      " [6.66666667e-01]\n",
      " [6.66666667e-01]\n",
      " [2.22044605e-16]]\n"
     ]
    }
   ],
   "source": [
    "import numpy as np\n",
    "def sigmoid(x):\n",
    "    return 1 / (1 + np.exp(-x))\n",
    "\n",
    "def sigmoid_derivative(x):\n",
    "    return x * (1 - x)\n",
    "\n",
    "def relu(x):\n",
    "    return np.maximum(0, x)\n",
    "\n",
    "def relu_derivative(x):\n",
    "    return np.where(x > 0, 1, 0)\n",
    "\n",
    "# Initialize data\n",
    "X = np.array([[0, 0], [0, 1], [1, 0], [1, 1]])\n",
    "y = np.array([[0], [1], [1], [0]])  \n",
    "\n",
    "# Initialize weights and biases\n",
    "input_layer_neurons = X.shape[1]\n",
    "hidden_layer_neurons = 2\n",
    "output_neurons = 1\n",
    "\n",
    "np.random.seed(42)\n",
    "weights_input_hidden = np.random.uniform(size=(input_layer_neurons, hidden_layer_neurons))\n",
    "bias_hidden = np.random.uniform(size=(1, hidden_layer_neurons))\n",
    "weights_hidden_output = np.random.uniform(size=(hidden_layer_neurons, output_neurons))\n",
    "bias_output = np.random.uniform(size=(1, output_neurons))\n",
    "\n",
    "# Hyperparameters\n",
    "learning_rate = 0.1\n",
    "epochs = 10000\n",
    "\n",
    "# Training \n",
    "for epoch in range(epochs):\n",
    "    # Forward pass\n",
    "    hidden_layer_input = np.dot(X, weights_input_hidden) + bias_hidden\n",
    "    hidden_layer_output = relu(hidden_layer_input)\n",
    "    \n",
    "    output_layer_input = np.dot(hidden_layer_output, weights_hidden_output) + bias_output\n",
    "    predicted_output = output_layer_input  \n",
    "\n",
    "    # Computing loss\n",
    "    loss = np.mean((y - predicted_output) ** 2)\n",
    "    \n",
    "    # Backward pass \n",
    "    error = y - predicted_output\n",
    "    d_predicted_output = -2 * error  \n",
    "    \n",
    "    # Gradients for weights and biases\n",
    "    weights_hidden_output_gradient = np.dot(hidden_layer_output.T, d_predicted_output)\n",
    "    bias_output_gradient = np.sum(d_predicted_output, axis=0, keepdims=True)\n",
    "    \n",
    "    hidden_layer_error = np.dot(d_predicted_output, weights_hidden_output.T)\n",
    "    hidden_layer_gradient = hidden_layer_error * relu_derivative(hidden_layer_output)\n",
    "    \n",
    "    weights_input_hidden_gradient = np.dot(X.T, hidden_layer_gradient)\n",
    "    bias_hidden_gradient = np.sum(hidden_layer_gradient, axis=0, keepdims=True)\n",
    "    \n",
    "    # Update weights and biases\n",
    "    weights_hidden_output -= learning_rate * weights_hidden_output_gradient\n",
    "    bias_output -= learning_rate * bias_output_gradient\n",
    "    \n",
    "    weights_input_hidden -= learning_rate * weights_input_hidden_gradient\n",
    "    bias_hidden -= learning_rate * bias_hidden_gradient\n",
    "    \n",
    "    if epoch % 1000 == 0:\n",
    "        print(f\"Epoch {epoch}, Loss: {loss}\")\n",
    "\n",
    "# Final prediction \n",
    "print(\"Final predicted output: \", predicted_output)\n"
   ]
  },
  {
   "cell_type": "code",
   "execution_count": null,
   "id": "e596ff75-4ec6-4cf8-b7f7-e898658448a8",
   "metadata": {},
   "outputs": [],
   "source": []
  }
 ],
 "metadata": {
  "kernelspec": {
   "display_name": "Python 3 (ipykernel)",
   "language": "python",
   "name": "python3"
  },
  "language_info": {
   "codemirror_mode": {
    "name": "ipython",
    "version": 3
   },
   "file_extension": ".py",
   "mimetype": "text/x-python",
   "name": "python",
   "nbconvert_exporter": "python",
   "pygments_lexer": "ipython3",
   "version": "3.12.3"
  }
 },
 "nbformat": 4,
 "nbformat_minor": 5
}
