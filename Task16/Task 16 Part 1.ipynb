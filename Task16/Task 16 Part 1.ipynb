{
 "cells": [
  {
   "cell_type": "markdown",
   "id": "3821fe65-6eb5-4c0d-bad7-65b31462860a",
   "metadata": {},
   "source": [
    "# Basic Plots:\n",
    "## Create a simple line plot.\n",
    "## Plot multiple lines on the same graph.\n",
    "## Add markers to a line plot.\n",
    "## Customize line styles and colors.\n"
   ]
  },
  {
   "cell_type": "code",
   "execution_count": null,
   "id": "a4c9dcc4-a627-4ff9-aae7-5f32e5aa3b41",
   "metadata": {},
   "outputs": [],
   "source": [
    "import matplotlib.pyplot as plt\n",
    "\n",
    "x = [1, 2, 3, 4, 5]\n",
    "y = [3, 5, 8, 5, 9]\n",
    "plt.plot(x, y)\n",
    "plt.title('Simple Line Plot')\n",
    "plt.show()\n",
    "\n",
    "\n",
    "y2 = [5, 4, 6, 8, 10]\n",
    "plt.plot(x, y, label='Line 1')\n",
    "plt.plot(x, y2, label='Line 2')\n",
    "plt.title('Multiple Lines Plot')\n",
    "plt.show()\n",
    "\n",
    "\n",
    "plt.plot(x, y, marker='o', label='Line with markers')\n",
    "plt.title('Line Plot with Markers')\n",
    "plt.show()\n",
    "\n",
    "\n",
    "plt.plot(x, y, linestyle='--', color='r', label='Dashed Red Line')\n",
    "plt.plot(x, y2, linestyle='-', color='g', label='Solid Green Line')\n",
    "plt.title('Customized Line Styles and Colors')\n",
    "plt.show()\n"
   ]
  }
 ],
 "metadata": {
  "kernelspec": {
   "display_name": "Python 3 (ipykernel)",
   "language": "python",
   "name": "python3"
  },
  "language_info": {
   "codemirror_mode": {
    "name": "ipython",
    "version": 3
   },
   "file_extension": ".py",
   "mimetype": "text/x-python",
   "name": "python",
   "nbconvert_exporter": "python",
   "pygments_lexer": "ipython3",
   "version": "3.12.3"
  }
 },
 "nbformat": 4,
 "nbformat_minor": 5
}
