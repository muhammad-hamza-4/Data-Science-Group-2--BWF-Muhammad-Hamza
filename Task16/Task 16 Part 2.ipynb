{
 "cells": [
  {
   "cell_type": "markdown",
   "id": "b60f0738-78a9-471d-956c-dcae57948234",
   "metadata": {},
   "source": [
    "# Scatter Plots:\n",
    "Create a basic scatter plot.\n",
    "\n",
    "Customize marker styles, sizes, and colors.\n",
    "\n",
    "Plot multiple scatter plots on the same graph.\n",
    "\n",
    "Add labels and titles to the scatter plot.\n",
    "\n"
   ]
  },
  {
   "cell_type": "code",
   "execution_count": null,
   "id": "1f04303c-5593-4624-aa45-227600f3dc51",
   "metadata": {},
   "outputs": [],
   "source": [
    "import matplotlib.pyplot as plt\n",
    "\n",
    "\n",
    "x = [1, 9, 5, 2, 9]\n",
    "y = [2, 5, 9, 1, 6]\n",
    "\n",
    "plt.scatter(x, y)\n",
    "plt.title('Basic Scatter Plot')\n",
    "plt.show()\n",
    "\n",
    "\n",
    "plt.scatter(x, y, marker='x', s=100, color='red', label='Custom Markers')\n",
    "plt.title('Scatter Plot with Custom Markers')\n",
    "plt.show()\n",
    "\n",
    "y2 = [4, 5, 7, 9, 12]\n",
    "plt.scatter(x, y, label='Scatter 1', color='blue')\n",
    "plt.scatter(x, y2, label='Scatter 2', color='green')\n",
    "plt.title('Multiple Scatter Plots')\n",
    "plt.show()\n",
    "\n",
    "\n",
    "plt.scatter(x, y)\n",
    "plt.title('Scatter Plot with Labels')\n",
    "plt.xlabel('X-axis')\n",
    "plt.ylabel('Y-axis')\n",
    "plt.show()\n"
   ]
  }
 ],
 "metadata": {
  "kernelspec": {
   "display_name": "Python 3 (ipykernel)",
   "language": "python",
   "name": "python3"
  },
  "language_info": {
   "codemirror_mode": {
    "name": "ipython",
    "version": 3
   },
   "file_extension": ".py",
   "mimetype": "text/x-python",
   "name": "python",
   "nbconvert_exporter": "python",
   "pygments_lexer": "ipython3",
   "version": "3.12.3"
  }
 },
 "nbformat": 4,
 "nbformat_minor": 5
}
