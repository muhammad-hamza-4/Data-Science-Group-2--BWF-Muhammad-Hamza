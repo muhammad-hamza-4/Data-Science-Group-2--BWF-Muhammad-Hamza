{
 "cells": [
  {
   "cell_type": "markdown",
   "id": "852f88bc-a324-4d1e-b04b-54e22c00867a",
   "metadata": {},
   "source": [
    "# Bar Charts:\n",
    "Create a vertical bar chart.\n",
    "\n",
    "Create a horizontal bar chart.\n",
    "\n",
    "Customize bar colors and add edge colors."
   ]
  },
  {
   "cell_type": "code",
   "execution_count": null,
   "id": "36dee358-3bf3-4cb6-bf0f-b5bb6d4926cd",
   "metadata": {},
   "outputs": [],
   "source": [
    "import matplotlib.pyplot as plt\n",
    "\n",
    "\n",
    "categories = ['F', 'M', 'H', 'Y']\n",
    "values = [3, 7, 2, 5]\n",
    "\n",
    "plt.bar(categories, values)\n",
    "plt.title('Vertical Bar Chart')\n",
    "plt.show()\n",
    "\n",
    "\n",
    "plt.figure()\n",
    "plt.barh(categories, values)\n",
    "plt.title('Horizontal Bar Chart')\n",
    "plt.show()\n",
    "\n",
    "\n",
    "plt.figure()\n",
    "plt.bar(categories, values, color='red', edgecolor='brown')\n",
    "plt.title('Customized Bar Colors')\n",
    "plt.show()\n"
   ]
  }
 ],
 "metadata": {
  "kernelspec": {
   "display_name": "Python 3 (ipykernel)",
   "language": "python",
   "name": "python3"
  },
  "language_info": {
   "codemirror_mode": {
    "name": "ipython",
    "version": 3
   },
   "file_extension": ".py",
   "mimetype": "text/x-python",
   "name": "python",
   "nbconvert_exporter": "python",
   "pygments_lexer": "ipython3",
   "version": "3.12.3"
  }
 },
 "nbformat": 4,
 "nbformat_minor": 5
}
