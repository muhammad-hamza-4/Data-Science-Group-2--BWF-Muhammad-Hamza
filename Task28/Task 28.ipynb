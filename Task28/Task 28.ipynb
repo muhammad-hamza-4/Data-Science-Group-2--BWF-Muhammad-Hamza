{
 "cells": [
  {
   "cell_type": "markdown",
   "id": "7c937a78-92e3-447c-b65f-19c4d6ea4e90",
   "metadata": {},
   "source": [
    "# Exploring Cross-Validation, Overfitting, and Underfitting\n"
   ]
  },
  {
   "cell_type": "code",
   "execution_count": null,
   "id": "3a26695d-5448-4f1c-b9e3-bc89e0d6984d",
   "metadata": {},
   "outputs": [],
   "source": [
    "import numpy as np\n",
    "import matplotlib.pyplot as plt\n",
    "from sklearn.datasets import make_regression\n",
    "from sklearn.model_selection import train_test_split\n",
    "from sklearn.linear_model import LinearRegression\n",
    "from sklearn.preprocessing import PolynomialFeatures\n",
    "from sklearn.pipeline import make_pipeline\n",
    "from sklearn.metrics import mean_squared_error\n",
    "from sklearn.model_selection import cross_val_score\n",
    "\n",
    "np.random.seed(0)\n",
    "X, y = make_regression(n_samples=100, n_features=1, noise=10, bias=10)\n",
    "X = np.sort(X, axis=0)  \n",
    "y = y + 0.5 * X**2\n",
    "X_train, X_test, y_train, y_test = train_test_split(X, y, test_size=0.2, random_state=0)\n",
    "\n",
    "plt.scatter(X, y, color='blue', label='Data')\n",
    "plt.xlabel('Feature')\n",
    "plt.ylabel('Target')\n",
    "plt.title('Synthetic Data')\n",
    "plt.legend()\n",
    "plt.show()\n"
   ]
  },
  {
   "cell_type": "markdown",
   "id": "7aa13f08-0827-407a-a0fb-141a33727b20",
   "metadata": {},
   "source": [
    "# Underfitting"
   ]
  },
  {
   "cell_type": "code",
   "execution_count": null,
   "id": "10461f58-e8f0-459f-8ac5-db7f0dbbd713",
   "metadata": {},
   "outputs": [],
   "source": [
    "\n",
    "model_linear = LinearRegression()\n",
    "cv_scores_linear = cross_val_score(model_linear, X_train, y_train, cv=5, scoring='neg_mean_squared_error')\n",
    "mean_cv_score_linear = -np.mean(cv_scores_linear)\n",
    "\n",
    "model_linear.fit(X_train, y_train)\n",
    "\n",
    "y_pred_linear = model_linear.predict(X_test)\n",
    "mse_linear = mean_squared_error(y_test, y_pred_linear)\n",
    "\n",
    "print(f\"Linear Regression Model - Mean CV MSE: {mean_cv_score_linear:.2f}\")\n",
    "print(f\"Linear Regression Model - Test MSE: {mse_linear:.2f}\")\n",
    "\n",
    "plt.scatter(X, y, color='blue', label='Data')\n",
    "plt.plot(X, model_linear.predict(X), color='red', label='Linear Fit')\n",
    "plt.xlabel('Feature')\n",
    "plt.ylabel('Target')\n",
    "plt.title('Linear Regression (Underfitting)')\n",
    "plt.legend()\n",
    "plt.show()\n"
   ]
  },
  {
   "cell_type": "markdown",
   "id": "cd634b3f-c92e-48db-b1b9-ff0e642ac9ef",
   "metadata": {},
   "source": [
    "# Overfitting"
   ]
  },
  {
   "cell_type": "code",
   "execution_count": null,
   "id": "74332927-3cb2-4710-9665-e4e025b3f54f",
   "metadata": {},
   "outputs": [],
   "source": [
    "from sklearn.preprocessing import PolynomialFeatures\n",
    "from sklearn.pipeline import make_pipeline\n",
    "\n",
    "degree = 15\n",
    "model_poly = make_pipeline(PolynomialFeatures(degree), LinearRegression())\n",
    "cv_scores_poly = cross_val_score(model_poly, X_train, y_train, cv=5, scoring='neg_mean_squared_error')\n",
    "mean_cv_score_poly = -np.mean(cv_scores_poly)\n",
    "\n",
    "model_poly.fit(X_train, y_train)\n",
    "\n",
    "y_pred_poly = model_poly.predict(X_test)\n",
    "mse_poly = mean_squared_error(y_test, y_pred_poly)\n",
    "\n",
    "print(f\"Polynomial Regression (Degree {degree}) - Mean CV MSE: {mean_cv_score_poly:.2f}\")\n",
    "print(f\"Polynomial Regression (Degree {degree}) - Test MSE: {mse_poly:.2f}\")\n",
    "\n",
    "plt.scatter(X, y, color='blue', label='Data')\n",
    "X_fit = np.linspace(X.min(), X.max(), 100).reshape(-1, 1)\n",
    "plt.plot(X_fit, model_poly.predict(X_fit), color='green', label='Polynomial Fit')\n",
    "plt.xlabel('Feature')\n",
    "plt.ylabel('Target')\n",
    "plt.title('Polynomial Regression (Overfitting)')\n",
    "plt.legend()\n",
    "plt.show()\n"
   ]
  }
 ],
 "metadata": {
  "kernelspec": {
   "display_name": "Python 3 (ipykernel)",
   "language": "python",
   "name": "python3"
  },
  "language_info": {
   "codemirror_mode": {
    "name": "ipython",
    "version": 3
   },
   "file_extension": ".py",
   "mimetype": "text/x-python",
   "name": "python",
   "nbconvert_exporter": "python",
   "pygments_lexer": "ipython3",
   "version": "3.12.3"
  }
 },
 "nbformat": 4,
 "nbformat_minor": 5
}
